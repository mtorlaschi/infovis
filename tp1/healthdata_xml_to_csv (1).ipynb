{
  "nbformat": 4,
  "nbformat_minor": 0,
  "metadata": {
    "colab": {
      "provenance": []
    },
    "kernelspec": {
      "name": "python3",
      "display_name": "Python 3"
    },
    "language_info": {
      "name": "python"
    }
  },
  "cells": [
    {
      "cell_type": "code",
      "execution_count": 2,
      "metadata": {
        "colab": {
          "base_uri": "https://localhost:8080/"
        },
        "id": "nwIpn0LtFPBe",
        "outputId": "f626063f-b38f-4f33-bf9e-bd3bc8d909f3"
      },
      "outputs": [
        {
          "output_type": "stream",
          "name": "stdout",
          "text": [
            "Finding Record types...\n",
            "Writing HKQuantityTypeIdentifierStepCount.csv...\n",
            "\n",
            "Writing HKQuantityTypeIdentifierDistanceWalkingRunning.csv...\n",
            "\n",
            "Writing HKQuantityTypeIdentifierBasalEnergyBurned.csv...\n",
            "\n",
            "Writing HKQuantityTypeIdentifierActiveEnergyBurned.csv...\n",
            "\n",
            "Writing HKQuantityTypeIdentifierFlightsClimbed.csv...\n",
            "\n",
            "Writing HKQuantityTypeIdentifierHeadphoneAudioExposure.csv...\n",
            "\n",
            "Writing HKQuantityTypeIdentifierWalkingDoubleSupportPercentage.csv...\n",
            "\n",
            "Writing HKQuantityTypeIdentifierWalkingSpeed.csv...\n",
            "\n",
            "Writing HKQuantityTypeIdentifierWalkingStepLength.csv...\n",
            "\n",
            "Writing HKQuantityTypeIdentifierWalkingAsymmetryPercentage.csv...\n",
            "\n",
            "Writing HKCategoryTypeIdentifierSleepAnalysis.csv...\n",
            "\n"
          ]
        }
      ],
      "source": [
        "# codigo original: https://github.com/simonkrenger/apple-health-to-fitbit/blob/master/convert_export-xml_to_csv.py\n",
        "\n",
        "import xml.etree.ElementTree as ET\n",
        "\n",
        "export = ET.parse('/export.xml')\n",
        "export_root = export.getroot()\n",
        "\n",
        "# Find all Record types\n",
        "print(\"Finding Record types...\")\n",
        "record_types = []\n",
        "for record in export_root.findall('Record'):\n",
        "\n",
        "  if record.get('type') not in record_types:\n",
        "    record_types.append(record.get('type'))\n",
        "\n",
        "for record_type in record_types:\n",
        "\n",
        "  # For each Record type, find all attributes\n",
        "  attributes = []\n",
        "  for record in export_root.findall('Record'):\n",
        "    if(record.get('type') == record_type):\n",
        "      for attribute_name in record.attrib:\n",
        "        if attribute_name not in attributes:\n",
        "          attributes.append(attribute_name)\n",
        "\n",
        "  # Write a file for each Record type\n",
        "  filename = record_type + \".csv\"\n",
        "  print(\"Writing \" + filename + \"...\\n\")\n",
        "  with open(filename, 'w') as output_file:\n",
        "    # Header\n",
        "    output_file.write(record_type + \"\\n\")\n",
        "    output_file.write(','.join(attributes) + \"\\n\")\n",
        "\n",
        "    # Records\n",
        "    for r in export_root.findall('Record'):\n",
        "      if(r.get('type') == record_type):\n",
        "        for att in attributes:\n",
        "          value = r.get(att)\n",
        "          if value is None:\n",
        "            value = \"NULL\" # Catch null values\n",
        "\n",
        "          if(att == \"device\" and \",\" in value):\n",
        "            value = value.replace(',','') # Replace commas in \"&lt;&lt;HKDevice: 0x123456789&gt;, name:iPhone, manufacturer:Apple, model:iPhone, hardware:iPhone10,4, software:12.1.1&gt;\"\n",
        "\n",
        "          output_file.write(value + \",\")\n",
        "        output_file.write(\"\\n\")\n"
      ]
    }
  ]
}